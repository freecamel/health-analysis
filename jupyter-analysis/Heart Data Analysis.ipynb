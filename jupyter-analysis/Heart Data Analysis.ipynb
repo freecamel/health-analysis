{
 "cells": [
  {
   "cell_type": "code",
   "execution_count": null,
   "metadata": {},
   "outputs": [],
   "source": [
    "!pip install pixiedust"
   ]
  },
  {
   "cell_type": "code",
   "execution_count": null,
   "metadata": {},
   "outputs": [],
   "source": [
    "!pip install pixiedust_node"
   ]
  },
  {
   "cell_type": "code",
   "execution_count": null,
   "metadata": {},
   "outputs": [],
   "source": [
    "import pixiedust_node"
   ]
  },
  {
   "cell_type": "code",
   "execution_count": null,
   "metadata": {},
   "outputs": [],
   "source": [
    "# prerequisite - uncomment this to get the necessary node libraries used by this script\n",
    "# npm.install(\"moment\");\n",
    "# npm.install(\"lodash\");\n",
    "# npm.install(\"mathjs\");"
   ]
  },
  {
   "cell_type": "code",
   "execution_count": null,
   "metadata": {},
   "outputs": [],
   "source": [
    "%%node\n",
    "\n",
    "var moment = require('moment');\n",
    "var mathjs = require('mathjs');\n",
    "var _ = require('lodash');"
   ]
  },
  {
   "cell_type": "code",
   "execution_count": null,
   "metadata": {},
   "outputs": [],
   "source": [
    "%%node \n",
    "\n",
    "function getTimeBucket(date1, date2) {\n",
    "    var theDate = date1.getTime() < date2.getTime() ? date1 : date2;    \n",
    "    return moment(theDate).startOf('day');\n",
    "}\n",
    "\n",
    "function typeHeartData(data) {\n",
    "    const obj = {\n",
    "        start: new Date(data[0]),\n",
    "        finish: new Date(data[1]),\n",
    "        count: Math.floor(+data[2]),\n",
    "        day: null\n",
    "    };\n",
    "\n",
    "    obj.day = getTimeBucket(obj.start, obj.finish);\n",
    "\n",
    "    return obj;\n",
    "}"
   ]
  },
  {
   "cell_type": "code",
   "execution_count": null,
   "metadata": {},
   "outputs": [],
   "source": [
    "%%node\n",
    "\n",
    "var projectDataDir = `${process.env.HEALTH_ANALYSIS_ROOT}/data/heart`.replace(/\\\\/g, '/');\n",
    "var heartDataPath = `${projectDataDir}/heart rate.csv`;\n",
    "var heartSampleDataPath = `${projectDataDir}/heart rate sample.csv`;"
   ]
  },
  {
   "cell_type": "code",
   "execution_count": null,
   "metadata": {},
   "outputs": [],
   "source": [
    "%%node\n",
    "\n",
    "// blocking reads seems to be the fastest, using an event based non-blocking seems to overwhelm the runtime somehow, \n",
    "// too many queue'd callbacks to process for each row?\n",
    "var hd = _.chain(fs.readFileSync(heartDataPath, 'utf-8').split('\\n')).\n",
    "    tail().\n",
    "    map(r => r.split(',')).\n",
    "    map(d => typeHeartData(d)).\n",
    "    value();\n",
    "    \n",
    "print(`completed: hd size is: ${hd.length}`);"
   ]
  },
  {
   "cell_type": "code",
   "execution_count": null,
   "metadata": {},
   "outputs": [],
   "source": [
    "%%node\n",
    "\n",
    "var hd2017 = _.chain(hd).\n",
    "    filter(data => data.day.year() === 2017).\n",
    "    value();\n",
    "    \n",
    "var hd2018 = _.chain(hd).\n",
    "    filter(data => data.day.year() === 2018).\n",
    "    value();"
   ]
  },
  {
   "cell_type": "code",
   "execution_count": null,
   "metadata": {
    "pixiedust": {
     "displayParams": {
      "aggregation": "MAX",
      "binsize": "211",
      "handlerId": "lineChart",
      "kde": "true",
      "keyFields": "day",
      "mpld3": "true",
      "rendererId": "bokeh",
      "rowCount": "200000",
      "timeseries": "true",
      "valueFields": "count"
     }
    },
    "scrolled": true
   },
   "outputs": [],
   "source": [
    "%%node\n",
    "\n",
    "// display(hd2017);\n",
    "display(_.sampleSize(hd2018, 20));"
   ]
  },
  {
   "cell_type": "code",
   "execution_count": null,
   "metadata": {
    "pixiedust": {
     "displayParams": {
      "handlerId": "tableView"
     }
    }
   },
   "outputs": [],
   "source": [
    "%%node\n",
    "\n",
    "var dayVar = _.chain(hd2018).\n",
    "    groupBy(d => d.day).\n",
    "    map((values, key) => ({ day: moment(key).format('YYYY-MM-DD'), dayVar: mathjs.var(values.map(v => v.count)) })).\n",
    "    value();\n",
    "    \n",
    "// display(_.sampleSize(dayVar, 20));\n"
   ]
  },
  {
   "cell_type": "code",
   "execution_count": null,
   "metadata": {
    "pixiedust": {
     "displayParams": {
      "aggregation": "MAX",
      "handlerId": "lineChart",
      "keyFields": "day",
      "rowCount": "365",
      "timeseries": "true",
      "valueFields": "dayVar"
     }
    },
    "scrolled": true
   },
   "outputs": [],
   "source": [
    "%%node\n",
    "// display(_.sampleSize(dayVar, 20));\n",
    "display(dayVar);\n"
   ]
  }
 ],
 "metadata": {
  "kernelspec": {
   "display_name": "Python 3",
   "language": "python",
   "name": "python3"
  },
  "language_info": {
   "codemirror_mode": {
    "name": "ipython",
    "version": 3
   },
   "file_extension": ".py",
   "mimetype": "text/x-python",
   "name": "python",
   "nbconvert_exporter": "python",
   "pygments_lexer": "ipython3",
   "version": "3.6.5"
  }
 },
 "nbformat": 4,
 "nbformat_minor": 2
}
